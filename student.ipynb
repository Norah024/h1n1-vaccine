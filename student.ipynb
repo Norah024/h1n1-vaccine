{
 "cells": [
  {
   "cell_type": "markdown",
   "metadata": {},
   "source": [
    "## Final Project Submission\n",
    "\n",
    "Please fill out: \n",
    "* Student name: NORAH NANJALA OLUOCH\n",
    "* Student pace: self paced / part time / full time: PART TIME\n",
    "* Scheduled project review date/time: \n",
    "* Instructor name: MR SAMUEL KARU\n",
    "* Blog post URL:\n"
   ]
  },
  {
   "cell_type": "markdown",
   "metadata": {},
   "source": [
    "## OVERVIEW\n",
    "As the world struggles to vaccinate the global population against COVID-19, an understanding of how people’s backgrounds, opinions, and health behaviors are related to their personal vaccination patterns can provide guidance for future public health efforts. Your audience could be someone guiding those public health efforts.\n",
    "Beginning in spring 2009, a pandemic caused by the H1N1 influenza virus, colloquially named \"swine flu,\" swept across the world approximating 151,000 and 575,000 deaths\n",
    "\n",
    "Vaccines provide immunization for individuals, and enough immunization in a community can further reduce the spread of diseases through \"herd immunity.\n"
   ]
  },
  {
   "cell_type": "markdown",
   "metadata": {},
   "source": [
    "### BUSINESS UNDERSTANDING: H1N1 AND SEASONAL FLU VACCINES\n",
    "H1NI is used to prevent infection caused by the influenza A virus and Seasonal Flu vaccines protect against the four influenza viruses.\n",
    "As of the launch of vaccine competition, vaccines for the COVID-19 virus are still under development and not yet available. \n",
    "A National Flu survey was conducted by United States in 2009, survey asked respondents whether they had received the H1N1 and seasonal flu vaccines the questions covered their social, economic, and demographic background, opinions on risks of illness and vaccine effectiveness, and behaviors towards mitigating transmission.The potential target is whether the respondents received H1N1 flu vaccine.  "
   ]
  },
  {
   "cell_type": "markdown",
   "metadata": {},
   "source": [
    "### PROBLEM STATEMENT\n",
    "Using data collected in the National 2009 H1N1 Flu Survey, the problem is to predict whether people got H1N1 and seasonal flu vacine.\n",
    "The goal is to predict how likely individuals are to receive their H1N1 and seasonal flu vaccines. The potential target is whether the respondents received H1N1 flu vaccine."
   ]
  },
  {
   "cell_type": "markdown",
   "metadata": {},
   "source": [
    "### OBJECTIVES\n",
    "1. To predict whether people got H1N1 and seasonal flu vaccines using information they shared about their backgrounds, opinions, and health behaviors?\n",
    "2. To identify whether the survey respondent received H1N1 flu vaccine.\n",
    "3. To evaluate the perfomance of the model/respondents ()"
   ]
  },
  {
   "cell_type": "markdown",
   "metadata": {},
   "source": [
    "## DATA UNDERSTANDING\n",
    "The source of data is using data collected in the National 2009 H1N1 Flu Survey in United States."
   ]
  },
  {
   "cell_type": "markdown",
   "metadata": {},
   "source": [
    "## IMPORTS\n"
   ]
  },
  {
   "cell_type": "code",
   "execution_count": 2,
   "metadata": {},
   "outputs": [],
   "source": [
    "import pandas as pd\n",
    "import numpy as np\n",
    "import matplotlib.pyplot as plt\n",
    "import seaborn as sns\n",
    "from sklearn.model_selection import train_test_split\n",
    "from sklearn.preprocessing import StandardScaler\n",
    "from sklearn.linear_model import LinearRegression\n",
    "from sklearn.linear_model import LogisticRegression\n",
    "from sklearn.model_selection import cross_val_score\n",
    "from sklearn.metrics import roc_auc_score\n",
    "from sklearn.pipeline import Pipeline\n",
    "from sklearn.metrics import classification_report, roc_auc_score\n",
    "from sklearn.tree import DecisionTreeClassifier\n",
    "from sklearn.metrics import classification_report, confusion_matrix\n"
   ]
  },
  {
   "cell_type": "markdown",
   "metadata": {},
   "source": [
    "### EDA"
   ]
  },
  {
   "cell_type": "code",
   "execution_count": 3,
   "metadata": {},
   "outputs": [
    {
     "data": {
      "text/html": [
       "<div>\n",
       "<style scoped>\n",
       "    .dataframe tbody tr th:only-of-type {\n",
       "        vertical-align: middle;\n",
       "    }\n",
       "\n",
       "    .dataframe tbody tr th {\n",
       "        vertical-align: top;\n",
       "    }\n",
       "\n",
       "    .dataframe thead th {\n",
       "        text-align: right;\n",
       "    }\n",
       "</style>\n",
       "<table border=\"1\" class=\"dataframe\">\n",
       "  <thead>\n",
       "    <tr style=\"text-align: right;\">\n",
       "      <th></th>\n",
       "      <th>respondent_id</th>\n",
       "      <th>h1n1_vaccine</th>\n",
       "      <th>seasonal_vaccine</th>\n",
       "    </tr>\n",
       "  </thead>\n",
       "  <tbody>\n",
       "    <tr>\n",
       "      <th>0</th>\n",
       "      <td>0</td>\n",
       "      <td>0</td>\n",
       "      <td>0</td>\n",
       "    </tr>\n",
       "    <tr>\n",
       "      <th>1</th>\n",
       "      <td>1</td>\n",
       "      <td>0</td>\n",
       "      <td>1</td>\n",
       "    </tr>\n",
       "    <tr>\n",
       "      <th>2</th>\n",
       "      <td>2</td>\n",
       "      <td>0</td>\n",
       "      <td>0</td>\n",
       "    </tr>\n",
       "    <tr>\n",
       "      <th>3</th>\n",
       "      <td>3</td>\n",
       "      <td>0</td>\n",
       "      <td>1</td>\n",
       "    </tr>\n",
       "    <tr>\n",
       "      <th>4</th>\n",
       "      <td>4</td>\n",
       "      <td>0</td>\n",
       "      <td>0</td>\n",
       "    </tr>\n",
       "  </tbody>\n",
       "</table>\n",
       "</div>"
      ],
      "text/plain": [
       "   respondent_id  h1n1_vaccine  seasonal_vaccine\n",
       "0              0             0                 0\n",
       "1              1             0                 1\n",
       "2              2             0                 0\n",
       "3              3             0                 1\n",
       "4              4             0                 0"
      ]
     },
     "execution_count": 3,
     "metadata": {},
     "output_type": "execute_result"
    }
   ],
   "source": [
    "file_paths = r'C:\\Users\\admin\\Desktop\\Project_Phase_3_\\data_csv\\training_set_labels.csv'\n",
    "# Read the CSV file into a DataFrame\n",
    "df = pd.read_csv(file_paths)\n",
    "df.head()"
   ]
  },
  {
   "cell_type": "code",
   "execution_count": 108,
   "metadata": {},
   "outputs": [
    {
     "name": "stdout",
     "output_type": "stream",
     "text": [
      "<class 'pandas.core.frame.DataFrame'>\n",
      "RangeIndex: 26707 entries, 0 to 26706\n",
      "Data columns (total 3 columns):\n",
      " #   Column            Non-Null Count  Dtype\n",
      "---  ------            --------------  -----\n",
      " 0   respondent_id     26707 non-null  int64\n",
      " 1   h1n1_vaccine      26707 non-null  int64\n",
      " 2   seasonal_vaccine  26707 non-null  int64\n",
      "dtypes: int64(3)\n",
      "memory usage: 626.1 KB\n"
     ]
    }
   ],
   "source": [
    "# basic information bout the dataset\n",
    "df.info()"
   ]
  },
  {
   "cell_type": "code",
   "execution_count": 4,
   "metadata": {},
   "outputs": [
    {
     "data": {
      "text/html": [
       "<div>\n",
       "<style scoped>\n",
       "    .dataframe tbody tr th:only-of-type {\n",
       "        vertical-align: middle;\n",
       "    }\n",
       "\n",
       "    .dataframe tbody tr th {\n",
       "        vertical-align: top;\n",
       "    }\n",
       "\n",
       "    .dataframe thead th {\n",
       "        text-align: right;\n",
       "    }\n",
       "</style>\n",
       "<table border=\"1\" class=\"dataframe\">\n",
       "  <thead>\n",
       "    <tr style=\"text-align: right;\">\n",
       "      <th></th>\n",
       "      <th>respondent_id</th>\n",
       "      <th>h1n1_vaccine</th>\n",
       "      <th>seasonal_vaccine</th>\n",
       "    </tr>\n",
       "  </thead>\n",
       "  <tbody>\n",
       "    <tr>\n",
       "      <th>count</th>\n",
       "      <td>26707.000000</td>\n",
       "      <td>26707.000000</td>\n",
       "      <td>26707.000000</td>\n",
       "    </tr>\n",
       "    <tr>\n",
       "      <th>mean</th>\n",
       "      <td>13353.000000</td>\n",
       "      <td>0.212454</td>\n",
       "      <td>0.465608</td>\n",
       "    </tr>\n",
       "    <tr>\n",
       "      <th>std</th>\n",
       "      <td>7709.791156</td>\n",
       "      <td>0.409052</td>\n",
       "      <td>0.498825</td>\n",
       "    </tr>\n",
       "    <tr>\n",
       "      <th>min</th>\n",
       "      <td>0.000000</td>\n",
       "      <td>0.000000</td>\n",
       "      <td>0.000000</td>\n",
       "    </tr>\n",
       "    <tr>\n",
       "      <th>25%</th>\n",
       "      <td>6676.500000</td>\n",
       "      <td>0.000000</td>\n",
       "      <td>0.000000</td>\n",
       "    </tr>\n",
       "    <tr>\n",
       "      <th>50%</th>\n",
       "      <td>13353.000000</td>\n",
       "      <td>0.000000</td>\n",
       "      <td>0.000000</td>\n",
       "    </tr>\n",
       "    <tr>\n",
       "      <th>75%</th>\n",
       "      <td>20029.500000</td>\n",
       "      <td>0.000000</td>\n",
       "      <td>1.000000</td>\n",
       "    </tr>\n",
       "    <tr>\n",
       "      <th>max</th>\n",
       "      <td>26706.000000</td>\n",
       "      <td>1.000000</td>\n",
       "      <td>1.000000</td>\n",
       "    </tr>\n",
       "  </tbody>\n",
       "</table>\n",
       "</div>"
      ],
      "text/plain": [
       "       respondent_id  h1n1_vaccine  seasonal_vaccine\n",
       "count   26707.000000  26707.000000      26707.000000\n",
       "mean    13353.000000      0.212454          0.465608\n",
       "std      7709.791156      0.409052          0.498825\n",
       "min         0.000000      0.000000          0.000000\n",
       "25%      6676.500000      0.000000          0.000000\n",
       "50%     13353.000000      0.000000          0.000000\n",
       "75%     20029.500000      0.000000          1.000000\n",
       "max     26706.000000      1.000000          1.000000"
      ]
     },
     "execution_count": 4,
     "metadata": {},
     "output_type": "execute_result"
    }
   ],
   "source": [
    "# summary statistis of the dataset\n",
    "df.describe()"
   ]
  },
  {
   "cell_type": "code",
   "execution_count": 5,
   "metadata": {},
   "outputs": [
    {
     "data": {
      "text/plain": [
       "respondent_id       0\n",
       "h1n1_vaccine        0\n",
       "seasonal_vaccine    0\n",
       "dtype: int64"
      ]
     },
     "execution_count": 5,
     "metadata": {},
     "output_type": "execute_result"
    }
   ],
   "source": [
    "#check for missing values\n",
    "df.isnull().sum()"
   ]
  },
  {
   "cell_type": "markdown",
   "metadata": {},
   "source": [
    "#### Data preprocessing"
   ]
  },
  {
   "cell_type": "code",
   "execution_count": 6,
   "metadata": {},
   "outputs": [],
   "source": [
    "from sklearn.preprocessing import StandardScaler, OneHotEncoder\n",
    "from sklearn.compose import ColumnTransformer\n",
    "from sklearn.pipeline import Pipeline\n",
    "\n",
    "df.fillna(df.median(), inplace=True)\n",
    "\n",
    "\n",
    "# Identify categorical columns\n",
    "categorical_cols = df.select_dtypes(include=['object']).columns\n",
    "\n",
    "# Create a column transformer\n",
    "preprocessor = ColumnTransformer(\n",
    "    transformers=[\n",
    "        ('cat', OneHotEncoder(), categorical_cols)\n",
    "    ],\n",
    "    remainder='passthrough'  # Keep other columns unchanged\n",
    ")\n",
    "\n",
    "# Separate features and target variable\n",
    "X = df.drop(['h1n1_vaccine', 'seasonal_vaccine'], axis=1)\n",
    "y_h1n1 = df['h1n1_vaccine']\n",
    "y_seasonal = df['seasonal_vaccine']\n",
    "\n",
    "# Split the data into training and test sets\n",
    "X_train, X_test, y_train_h1n1, y_test_h1n1 = train_test_split(X, y_h1n1, test_size=0.3, random_state=42)\n",
    "X_train, X_test, y_train_seasonal, y_test_seasonal = train_test_split(X, y_seasonal, test_size=0.3, random_state=42)"
   ]
  },
  {
   "cell_type": "markdown",
   "metadata": {},
   "source": [
    "### Modeling"
   ]
  },
  {
   "cell_type": "code",
   "execution_count": 7,
   "metadata": {},
   "outputs": [
    {
     "name": "stdout",
     "output_type": "stream",
     "text": [
      "              precision    recall  f1-score   support\n",
      "\n",
      "           0       0.79      1.00      0.88      6319\n",
      "           1       0.00      0.00      0.00      1694\n",
      "\n",
      "    accuracy                           0.79      8013\n",
      "   macro avg       0.39      0.50      0.44      8013\n",
      "weighted avg       0.62      0.79      0.70      8013\n",
      "\n",
      "ROC AUC Score (H1N1): 0.5\n",
      "              precision    recall  f1-score   support\n",
      "\n",
      "           0       0.54      1.00      0.70      4342\n",
      "           1       0.00      0.00      0.00      3671\n",
      "\n",
      "    accuracy                           0.54      8013\n",
      "   macro avg       0.27      0.50      0.35      8013\n",
      "weighted avg       0.29      0.54      0.38      8013\n",
      "\n",
      "ROC AUC Score (Seasonal): 0.5\n"
     ]
    },
    {
     "name": "stderr",
     "output_type": "stream",
     "text": [
      "c:\\Users\\admin\\anaconda\\envs\\learn-env\\lib\\site-packages\\sklearn\\metrics\\_classification.py:1221: UndefinedMetricWarning: Precision and F-score are ill-defined and being set to 0.0 in labels with no predicted samples. Use `zero_division` parameter to control this behavior.\n",
      "  _warn_prf(average, modifier, msg_start, len(result))\n",
      "c:\\Users\\admin\\anaconda\\envs\\learn-env\\lib\\site-packages\\sklearn\\metrics\\_classification.py:1221: UndefinedMetricWarning: Precision and F-score are ill-defined and being set to 0.0 in labels with no predicted samples. Use `zero_division` parameter to control this behavior.\n",
      "  _warn_prf(average, modifier, msg_start, len(result))\n"
     ]
    }
   ],
   "source": [
    "# Create a pipeline with preprocessing and model\n",
    "pipeline_h1n1 = Pipeline(steps=[\n",
    "    ('preprocessor', preprocessor),\n",
    "    ('classifier', LogisticRegression(solver='liblinear'))  # liblinear is good for small datasets\n",
    "])\n",
    "\n",
    "# Train the model\n",
    "pipeline_h1n1.fit(X_train, y_train_h1n1)\n",
    "\n",
    "# Predict on test data\n",
    "y_pred_h1n1 = pipeline_h1n1.predict(X_test)\n",
    "\n",
    "# Evaluate the model\n",
    "print(classification_report(y_test_h1n1, y_pred_h1n1))\n",
    "print(\"ROC AUC Score (H1N1):\", roc_auc_score(y_test_h1n1, y_pred_h1n1))\n",
    "\n",
    "\n",
    "pipeline_seasonal = Pipeline(steps=[\n",
    "    ('preprocessor', preprocessor),\n",
    "    ('classifier', LogisticRegression(solver='liblinear'))\n",
    "])\n",
    "\n",
    "pipeline_seasonal.fit(X_train, y_train_seasonal)\n",
    "y_pred_seasonal = pipeline_seasonal.predict(X_test)\n",
    "\n",
    "print(classification_report(y_test_seasonal, y_pred_seasonal))\n",
    "print(\"ROC AUC Score (Seasonal):\", roc_auc_score(y_test_seasonal, y_pred_seasonal))"
   ]
  },
  {
   "cell_type": "markdown",
   "metadata": {},
   "source": [
    "#### Model evalution"
   ]
  },
  {
   "cell_type": "code",
   "execution_count": 8,
   "metadata": {},
   "outputs": [
    {
     "name": "stdout",
     "output_type": "stream",
     "text": [
      "Cross-Validation ROC AUC Scores (H1N1): [0.50833339 0.51985688 0.52246005 0.50754743 0.50000377]\n",
      "Mean Cross-Validation ROC AUC Score (H1N1): 0.5116403041304727\n",
      "Cross-Validation ROC AUC Scores (Seasonal): [0.51636876 0.50864594 0.52189817 0.52055115 0.50026515]\n",
      "Mean Cross-Validation ROC AUC Score (Seasonal): 0.5135458353569277\n"
     ]
    }
   ],
   "source": [
    "# Cross-validation for H1N1 vaccine model\n",
    "cv_scores_h1n1 = cross_val_score(pipeline_h1n1, X, y_h1n1, cv=5, scoring='roc_auc')\n",
    "print(\"Cross-Validation ROC AUC Scores (H1N1):\", cv_scores_h1n1)\n",
    "print(\"Mean Cross-Validation ROC AUC Score (H1N1):\", cv_scores_h1n1.mean())\n",
    "\n",
    "# Cross-validation for Seasonal vaccine model\n",
    "cv_scores_seasonal = cross_val_score(pipeline_seasonal, X, y_seasonal, cv=5, scoring='roc_auc')\n",
    "print(\"Cross-Validation ROC AUC Scores (Seasonal):\", cv_scores_seasonal)\n",
    "print(\"Mean Cross-Validation ROC AUC Score (Seasonal):\", cv_scores_seasonal.mean())"
   ]
  },
  {
   "cell_type": "markdown",
   "metadata": {},
   "source": [
    "#### Visualization"
   ]
  },
  {
   "cell_type": "code",
   "execution_count": 9,
   "metadata": {},
   "outputs": [
    {
     "data": {
      "image/png": "[encoded data removed]",
      "text/plain": [
       "<Figure size 432x288 with 1 Axes>"
      ]
     },
     "metadata": {
      "needs_background": "light"
     },
     "output_type": "display_data"
    },
    {
     "data": {
      "image/png": "[encoded data removed]",
      "text/plain": [
       "<Figure size 432x288 with 1 Axes>"
      ]
     },
     "metadata": {
      "needs_background": "light"
     },
     "output_type": "display_data"
    }
   ],
   "source": [
    "from sklearn.metrics import roc_curve\n",
    "\n",
    "# H1N1 ROC curve\n",
    "fpr_h1n1, tpr_h1n1, _ = roc_curve(y_test_h1n1, pipeline_h1n1.predict_proba(X_test)[:,1])\n",
    "plt.plot(fpr_h1n1, tpr_h1n1, marker='.')\n",
    "plt.xlabel('False Positive Rate')\n",
    "plt.ylabel('True Positive Rate')\n",
    "plt.title('ROC Curve for H1N1 Vaccine')\n",
    "plt.show()\n",
    "\n",
    "# Seasonal ROC curve\n",
    "fpr_seasonal, tpr_seasonal, _ = roc_curve(y_test_seasonal, pipeline_seasonal.predict_proba(X_test)[:,1])\n",
    "plt.plot(fpr_seasonal, tpr_seasonal, marker='.')\n",
    "plt.xlabel('False Positive Rate')\n",
    "plt.ylabel('True Positive Rate')\n",
    "plt.title('ROC Curve for Seasonal Vaccine')\n",
    "plt.show()"
   ]
  },
  {
   "cell_type": "markdown",
   "metadata": {},
   "source": [
    "#### Insights\n",
    "Both vaccines predicted ROC AUC of 0.5 indicating that the models are not effectively distinguishing between classes.\n",
    "The features used may not be informative or relevant for predicting vaccine uptake."
   ]
  },
  {
   "cell_type": "markdown",
   "metadata": {},
   "source": [
    "#### Confusion matrix"
   ]
  },
  {
   "cell_type": "code",
   "execution_count": 10,
   "metadata": {},
   "outputs": [
    {
     "name": "stdout",
     "output_type": "stream",
     "text": [
      "[[5219 1100]\n",
      " [1126  568]]\n",
      "              precision    recall  f1-score   support\n",
      "\n",
      "           0       0.82      0.83      0.82      6319\n",
      "           1       0.34      0.34      0.34      1694\n",
      "\n",
      "    accuracy                           0.72      8013\n",
      "   macro avg       0.58      0.58      0.58      8013\n",
      "weighted avg       0.72      0.72      0.72      8013\n",
      "\n",
      "[0.85640166 0.14359834]\n"
     ]
    }
   ],
   "source": [
    "# Preprocessing\n",
    "X = df.drop('h1n1_vaccine', axis=1)  # Features\n",
    "y = df['h1n1_vaccine']  # Target\n",
    "\n",
    "# Convert categorical variables to numerical\n",
    "X = pd.get_dummies(X)\n",
    "\n",
    "# Split the data\n",
    "X_train, X_test, y_train, y_test = train_test_split(X, y, test_size=0.3, random_state=42)\n",
    "\n",
    "# Initialize and train the decision tree\n",
    "model = DecisionTreeClassifier()\n",
    "model.fit(X_train, y_train)\n",
    "\n",
    "# Make predictions\n",
    "y_pred = model.predict(X_test)\n",
    "\n",
    "# Evaluate the model\n",
    "print(confusion_matrix(y_test, y_pred))\n",
    "print(classification_report(y_test, y_pred))\n",
    "\n",
    "# Feature importance\n",
    "importances = model.feature_importances_\n",
    "print(importances)\n"
   ]
  },
  {
   "cell_type": "code",
   "execution_count": 11,
   "metadata": {},
   "outputs": [
    {
     "data": {
      "image/png": "[encoded data removed]",
      "text/plain": [
       "<Figure size 720x504 with 2 Axes>"
      ]
     },
     "metadata": {
      "needs_background": "light"
     },
     "output_type": "display_data"
    },
    {
     "name": "stdout",
     "output_type": "stream",
     "text": [
      "              precision    recall  f1-score   support\n",
      "\n",
      "           0       0.82      0.83      0.82      6319\n",
      "           1       0.34      0.34      0.34      1694\n",
      "\n",
      "    accuracy                           0.72      8013\n",
      "   macro avg       0.58      0.58      0.58      8013\n",
      "weighted avg       0.72      0.72      0.72      8013\n",
      "\n"
     ]
    }
   ],
   "source": [
    "#compute confusion matrix\n",
    "cm = confusion_matrix(y_test, y_pred)\n",
    "\n",
    "# Display confusion matrix\n",
    "plt.figure(figsize=(10, 7))\n",
    "sns.heatmap(cm, annot=True, fmt='d', cmap='Blues', \n",
    "            xticklabels=['Did Not Receive H1N1 Vaccine', 'Received H1N1 Vaccine'],\n",
    "            yticklabels=['Did Not Receive H1N1 Vaccine', 'Received H1N1 Vaccine'])\n",
    "plt.xlabel('Predicted Label')\n",
    "plt.ylabel('True Label')\n",
    "plt.title('Confusion Matrix')\n",
    "plt.show()\n",
    "\n",
    "# Optionally, print the classification report\n",
    "print(classification_report(y_test, y_pred))"
   ]
  },
  {
   "cell_type": "markdown",
   "metadata": {},
   "source": [
    "## Insights and recommendations\n",
    "True Positives (TP): The number of people correctly predicted to have received the H1N1 vaccine. (568)\n",
    "\n",
    "True Negatives (TN): The number of people correctly predicted not to have received the H1N1 vaccine. (5219)\n",
    "\n",
    "False Positives (FP): The number of people incorrectly predicted to have received the vaccine but did not. (1100)\n",
    "\n",
    "False Negatives (FN): The number of people incorrectly predicted not to have received the vaccine but did. (1126)\n",
    "\n",
    "Precision: 0.34\n",
    "\n",
    "Of all the instances predicted as class 1, 34% were actually class 1.\n",
    "The model is less accurate at identifying individuals who received the vaccine when it predicts them as such.\n",
    "\n",
    "Recall: 0.34\n",
    "\n",
    "Of all the actual class 1 instances, 34% were correctly predicted as class 1.\n",
    "The model misses a significant portion of actual vaccine recipients, indicating low sensitivity for this class.\n",
    "\n",
    "F1-score: 0.34\n",
    "\n",
    "The harmonic mean of precision and recall for class 1.\n",
    "The model's performance for class 1 is weak, with a low balance between precision and recall.\n"
   ]
  },
  {
   "cell_type": "markdown",
   "metadata": {},
   "source": [
    "### Model perfomance\n",
    "The model performs well in identifying class 0(respondets who did not receive H1N1) but poorly in identifying class 1(respondents who received H1N1). This suggests an imbalance between classes, where the model is biased towards the majority class (class 0)."
   ]
  },
  {
   "cell_type": "markdown",
   "metadata": {},
   "source": [
    "### Recommendation\n",
    "Address class imbalance using techniques like resampling (e.g., SMOTE for oversampling the minority class or random undersampling of the majority class), adjusting class weights, or using algorithms designed to handle imbalanced data."
   ]
  },
  {
   "cell_type": "markdown",
   "metadata": {},
   "source": [
    "## FINAL\n",
    "DECISION TREE MODEL PERFOMS BETTER THAN LOGISTIC REGRESSION"
   ]
  }
 ],
 "metadata": {
  "kernelspec": {
   "display_name": "Python 3",
   "language": "python",
   "name": "python3"
  },
  "language_info": {
   "codemirror_mode": {
    "name": "ipython",
    "version": 3
   },
   "file_extension": ".py",
   "mimetype": "text/x-python",
   "name": "python",
   "nbconvert_exporter": "python",
   "pygments_lexer": "ipython3",
   "version": "3.8.5"
  }
 },
 "nbformat": 4,
 "nbformat_minor": 2
}
